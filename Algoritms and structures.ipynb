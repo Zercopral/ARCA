{
 "cells": [
  {
   "attachments": {},
   "cell_type": "markdown",
   "metadata": {},
   "source": [
    "#Проблема анаграммы\n",
    "- abc <-> bca\n",
    "- abc !-! baca\n",
    "- abac <-> baca\n",
    "- abc !-! bax"
   ]
  },
  {
   "cell_type": "code",
   "execution_count": 6,
   "metadata": {},
   "outputs": [],
   "source": [
    "def anagram(s1: str, s2: str) -> bool:\n",
    "    ..."
   ]
  },
  {
   "cell_type": "code",
   "execution_count": 7,
   "metadata": {},
   "outputs": [],
   "source": [
    "def anagram_zero(s1: str, s2: str) -> bool:\n",
    "    '''Полный перебор с перестановками: O(n!)'''\n",
    "    ..."
   ]
  },
  {
   "cell_type": "code",
   "execution_count": 8,
   "metadata": {},
   "outputs": [],
   "source": [
    "def anagram_one(s1: str, s2: str) -> bool:\n",
    "    '''O(n^2)'''\n",
    "    if len(s1) != len(s2): return False\n",
    "    array: list[str|None] = list(s2)\n",
    "    for char1 in s1:\n",
    "        for i, char2 in enumerate(array):\n",
    "            if char1 == char2:\n",
    "                array[i] = None\n",
    "                break\n",
    "    return set(array) == {None}"
   ]
  },
  {
   "cell_type": "code",
   "execution_count": 9,
   "metadata": {},
   "outputs": [],
   "source": [
    "def anagram_two_a(s1: str, s2: str) -> bool:\n",
    "    '''O(n^2) or O(n log n)'''\n",
    "    if len(s1) != len(s2): return False\n",
    "    array1 = list(s1)\n",
    "    array2 = list(s2)\n",
    "\n",
    "    array1.sort()\n",
    "    array2.sort()\n",
    "\n",
    "    pos = 0\n",
    "    while pos<len(s1):\n",
    "        if array1[pos] != array2[pos]:\n",
    "            return False\n",
    "        pos += 1\n",
    "    \n",
    "    return True"
   ]
  },
  {
   "cell_type": "code",
   "execution_count": 10,
   "metadata": {},
   "outputs": [],
   "source": [
    "def anagram_two_b(s1: str, s2: str) -> bool:\n",
    "    '''O(n^2) or O(n log n)'''\n",
    "    if len(s1) != len(s2): return False\n",
    "    array1 = list(s1)\n",
    "    array2 = list(s2)\n",
    "\n",
    "    array1.sort()\n",
    "    array2.sort()\n",
    "\n",
    "    for char1, char2 in array1, array2:\n",
    "        if char1 != char2: return False\n",
    "    return True"
   ]
  },
  {
   "cell_type": "code",
   "execution_count": 11,
   "metadata": {},
   "outputs": [],
   "source": [
    "def anagram_two_c(s1: str, s2: str) -> bool:\n",
    "    '''O(n^2) or O(n log n)'''\n",
    "    if len(s1) != len(s2): return False\n",
    "    array1 = list(s1)\n",
    "    array2 = list(s2)\n",
    "\n",
    "    array1.sort()\n",
    "    array2.sort()\n",
    "\n",
    "    return array1 == array2"
   ]
  },
  {
   "cell_type": "code",
   "execution_count": 12,
   "metadata": {},
   "outputs": [],
   "source": [
    "def anagram_two_d(s1: str, s2: str) -> bool:\n",
    "    '''O(n^2) or O(n log n)'''\n",
    "    if len(s1) != len(s2): return False\n",
    "    s1 = ''.join(sorted(list(s1)))\n",
    "    s2 = ''.join(sorted(list(s2)))\n",
    "    return s1 == s2"
   ]
  },
  {
   "cell_type": "code",
   "execution_count": 13,
   "metadata": {},
   "outputs": [],
   "source": [
    "def anagram_three_a(s1: str, s2: str) -> bool:\n",
    "    '''O(n)'''\n",
    "    if len(s1) != len(s2): return False\n",
    "\n",
    "    d1 = dict()\n",
    "    d2 = dict()\n",
    "\n",
    "    for char1, char2 in s1, s2:\n",
    "        d1[char1] = d1.get(char1, -1) + 1\n",
    "        d2[char2] = d2.get(char2, -1) + 1\n",
    "    return d1 == d2\n"
   ]
  },
  {
   "cell_type": "code",
   "execution_count": 14,
   "metadata": {},
   "outputs": [],
   "source": [
    "from collections import Counter\n",
    "def anagram_three_b(s1: str, s2: str) -> bool:\n",
    "    '''O(n)'''\n",
    "    return Counter(s1) == Counter(s2)"
   ]
  },
  {
   "attachments": {},
   "cell_type": "markdown",
   "metadata": {},
   "source": [
    "РЕКУРСИЯ"
   ]
  },
  {
   "attachments": {},
   "cell_type": "markdown",
   "metadata": {},
   "source": [
    "Хвоставая рекурсия return factorial3(n-1, n*acc)"
   ]
  },
  {
   "cell_type": "code",
   "execution_count": 15,
   "metadata": {},
   "outputs": [],
   "source": [
    "def factorial1(n):\n",
    "    result = 1\n",
    "    for i in range(1, n+1):\n",
    "        result *= i\n",
    "    return result\n",
    " \n",
    "\n",
    "def factorial2(n):\n",
    "    if n == 0: \n",
    "        return 1\n",
    "    return n * factorial2(n - 1)\n",
    " \n",
    "\n",
    "def factorial3(n, acc = 1):\n",
    "    if n <= 1:\n",
    "        return acc\n",
    "    return factorial3(n - 1, n * acc)"
   ]
  },
  {
   "attachments": {},
   "cell_type": "markdown",
   "metadata": {},
   "source": [
    "================================================================================================================================================================"
   ]
  },
  {
   "attachments": {},
   "cell_type": "markdown",
   "metadata": {},
   "source": [
    "                                                                                                СТРУКТУРЫ ДАННЫХ"
   ]
  },
  {
   "attachments": {},
   "cell_type": "markdown",
   "metadata": {},
   "source": [
    "                                                                                Способ хранения информации и методы работы с ней."
   ]
  },
  {
   "attachments": {},
   "cell_type": "markdown",
   "metadata": {},
   "source": [
    "================================================================================================================================================================"
   ]
  },
  {
   "attachments": {},
   "cell_type": "markdown",
   "metadata": {},
   "source": [
    "Про написания решений: (пример картотека)"
   ]
  },
  {
   "attachments": {},
   "cell_type": "markdown",
   "metadata": {},
   "source": [
    "1. В каком виде?\n",
    "2. Как с кол-вом?\n",
    "3. Добавление/удаление?\n",
    "4. Поиск?\n",
    "5. Сортировка?"
   ]
  },
  {
   "attachments": {},
   "cell_type": "markdown",
   "metadata": {},
   "source": [
    "Распространенные ответы на предыдущие вопросы помогут выбрать подходящую сруктуру данных."
   ]
  },
  {
   "attachments": {},
   "cell_type": "markdown",
   "metadata": {},
   "source": [
    "Три базовые структуры данных: (остальные пошли от них)"
   ]
  },
  {
   "attachments": {},
   "cell_type": "markdown",
   "metadata": {},
   "source": [
    "I. Array - массив - list\n",
    "\n",
    "Последовательно расположенные какие-то данные\n",
    "\n",
    "3 свойства:\n",
    "\n",
    "1. Последовательность.\n",
    "2. Фиксированная длина. (при инициализации казывается размер, который невозможно поменять. В питоне у массивов размера нет)\n",
    "3. Однотипность. (в классическом массиве можно хранить только один тип данных: целые числа, дробные, строки)\n",
    "\n",
    "А что в питоне?\n",
    "1. Сохраняется\n",
    "2. Динамические массивы\n",
    "3. В питоне такого правила явно нет, так как в Python всё есть объекты:\n",
    "объект хранит объект и тип\n",
    "а в массивах хранятся адреса на объекты"
   ]
  },
  {
   "attachments": {},
   "cell_type": "markdown",
   "metadata": {},
   "source": [
    "C - король IT мира. Без него не было бы других языков программирования. Все они написаны на нем."
   ]
  },
  {
   "attachments": {},
   "cell_type": "markdown",
   "metadata": {},
   "source": [
    "Индексы - смещения. Ровно поэтому они начинаются с нуля.\n",
    "\n",
    "a - хранит ссылку на первый элемент,  него смещение - ноль.\n",
    "\n",
    "a[2] - к адресу в переменной a надо прибавить 2\n",
    "\n",
    "числа по 4 байта\n",
    "\n",
    "a[2] = [0] + 2*4\n",
    "a[0] = [0] + 0*4"
   ]
  },
  {
   "attachments": {},
   "cell_type": "markdown",
   "metadata": {},
   "source": [
    "Методы и их время:\n",
    "\n",
    "1. Обращение к элементу и удаление элемента по индиксу - O(1)\n",
    "2. Удаление, вставка (все типы), динамическое расширение - O(n)"
   ]
  },
  {
   "attachments": {},
   "cell_type": "markdown",
   "metadata": {},
   "source": [
    "Использовать, когда необходимо обращаться к элементу, но не удалять элементы или вставлять"
   ]
  },
  {
   "attachments": {},
   "cell_type": "markdown",
   "metadata": {},
   "source": [
    "II. Связный список"
   ]
  },
  {
   "attachments": {},
   "cell_type": "markdown",
   "metadata": {},
   "source": [
    "Методы и их время:\n",
    "\n",
    "1. Добавлениев начало - O(1)\n",
    "2. Добавление в середину - O(1)\n",
    "3. Удаление узла - O(1)\n",
    "\n",
    "4. Поэлементное обращение - O(n) - надо бежать по всем элементам\n",
    "\n",
    "В кратце, у списка и связанного списка есть зеркальность между методами и их временем. Сходится только время перебор элемнтов."
   ]
  },
  {
   "attachments": {},
   "cell_type": "markdown",
   "metadata": {},
   "source": [
    "III. Графы (о них не говорим)"
   ]
  },
  {
   "attachments": {},
   "cell_type": "markdown",
   "metadata": {},
   "source": [
    "#Связный список"
   ]
  },
  {
   "cell_type": "code",
   "execution_count": 16,
   "metadata": {},
   "outputs": [],
   "source": [
    "class Node:\n",
    "    \n",
    "    def __init__(self, data):\n",
    "        self.__data = data\n",
    "        self.__next = None\n",
    "\n",
    "    def get_data(self):\n",
    "        return self.__data\n",
    "\n",
    "    def set_data(self, data):\n",
    "        self.__data = data\n",
    "\n",
    "    data = property(get_data, set_data)\n",
    "\n",
    "\n",
    "    def get_next(self):\n",
    "        return self.__next\n",
    "\n",
    "    def set_next(self, node):\n",
    "        self.__next = node\n",
    "\n",
    "    next = property(get_next, set_next)"
   ]
  },
  {
   "cell_type": "code",
   "execution_count": 17,
   "metadata": {},
   "outputs": [],
   "source": [
    "class LinkedList:\n",
    "    def __init__(self):\n",
    "        self.__head = None\n",
    "        self.__tail = None\n",
    "        self.__length = 0\n",
    "    \n",
    "    def is_empty(self):\n",
    "        return self.__head is None #== вначале делает проверку is, а None один в памяти, поэтому is проще\n",
    "    \n",
    "    def add(self, item):\n",
    "        node = Node(item)\n",
    "        node.next = self.__head\n",
    "        self.__head = node\n",
    "        if self.__length == 0:\n",
    "            self.__tail = node\n",
    "        self.__length += 1\n",
    "    \n",
    "    #размер массива\n",
    "    def size(self):\n",
    "        return self.__length\n",
    "    \n",
    "    #есть элемент в списке или нет\n",
    "    def search(self, item):\n",
    "        if self.is_empty(): return False\n",
    "        current = self.__head\n",
    "        \n",
    "        while not current is None:\n",
    "            if current.data == item:\n",
    "                return True\n",
    "            current = current.next\n",
    "        return False\n",
    "    \n",
    "    #удаление элемента из списка по значению\n",
    "    def remove(self, item):\n",
    "        if self.is_empty(): return False\n",
    "        current = self.__head\n",
    "        previous = None\n",
    "        while not current is None:\n",
    "            #если текущий элемент - искомый элемент, то меняем ссылки\n",
    "            if current.data == item:\n",
    "                #\"удаляем\" узел заменой ссылок: предыдущий элемент до узла ссылается на следущий элемент после узла\n",
    "                if previous:\n",
    "                    previous.next = current.next\n",
    "                    #если текущий элемент - хвост, то хвостом становится предыдущий элемент\n",
    "                    if current == self.__tail:\n",
    "                        self.__tail = previous\n",
    "                else:\n",
    "                    #если текущий элемент - голова, то следущий элемент становится головой\n",
    "                    self.__head = current.next\n",
    "                #убираем 1 ед. длины\n",
    "                self.__length -= 1\n",
    "\n",
    "                #вернем значение узла, чтобы пользователь понял, что мы его нашли\n",
    "                return current.data\n",
    "            #для того, чтобы бежать по циклу\n",
    "            previous = current\n",
    "            current = current.next\n",
    "        return False\n",
    "    \n",
    "    def append(self, item):\n",
    "        if self.is_empty(): return False\n",
    "        node = Node(item)\n",
    "        node.next = None\n",
    "        #теперь узел хвоста ссылается на новый узел\n",
    "        self.__tail.next = node\n",
    "        #новый узел - хвост\n",
    "        self.__tail = node\n",
    "    \n",
    "    def pop(self):\n",
    "        if self.is_empty(): return False\n",
    "\n",
    "        current = self.__head\n",
    "        while not current.next == self.__tail:\n",
    "            current = current.next\n",
    "        \n",
    "        to_return = self.__tail.data\n",
    "\n",
    "        current.next = None\n",
    "        self.__tail = current\n",
    "\n",
    "        return to_return\n",
    "    \n",
    "    #чтобы увидеть результаты работы методов\n",
    "    def __str__(self):\n",
    "        to_return = ''\n",
    "        current = self.__head\n",
    "        while not current is None:\n",
    "            to_return += f'{current.data} --> '\n",
    "            current = current.next\n",
    "        \n",
    "        to_return += 'None'\n",
    "        \n",
    "        return to_return\n",
    "\n",
    "    def get(self, index):\n",
    "        if self.is_empty(): return None\n",
    "        if index >= self.size(): return None\n",
    "        if index < 0: return None\n",
    "        if index == 0: return self.__head.data\n",
    "        current = self.__head\n",
    "        cnt = 1\n",
    "        while cnt < self.size():\n",
    "            current = current.next\n",
    "            if index == cnt:\n",
    "                return current.data\n",
    "            cnt += 1\n",
    "        return None\n",
    "\n",
    "    #итерабильность\n",
    "    def __getitem__(self, index):\n",
    "        if index >= self.size(): raise IndexError()\n",
    "        return self.get(index)\n",
    "    \n",
    "    def shift(self):\n",
    "        if self.__head is None: return None\n",
    "        node = self.__head\n",
    "        self.__head = node.next\n",
    "        node.next = None\n",
    "        self.__length -= 1\n",
    "        return node.data\n",
    "        "
   ]
  },
  {
   "cell_type": "code",
   "execution_count": 18,
   "metadata": {},
   "outputs": [
    {
     "name": "stdout",
     "output_type": "stream",
     "text": [
      "44 --> 72 --> 8 --> 21 --> 3 --> None\n",
      "5\n",
      "72\n",
      "44 --> 8 --> 21 --> 3 --> None\n",
      "4\n",
      "44 --> 8 --> 21 --> 3 --> 100 --> None\n",
      "21\n",
      "44 --> 8 --> 3 --> 100 --> None\n",
      "44\n",
      "8 --> 3 --> 100 --> None\n",
      "100\n",
      "8 --> 3 --> None\n"
     ]
    }
   ],
   "source": [
    "my_list = LinkedList()\n",
    "my_list.add(3)\n",
    "my_list.add(21)\n",
    "my_list.add(8)\n",
    "my_list.add(72)\n",
    "my_list.add(44)\n",
    "assert my_list.get(0) == 44\n",
    "assert my_list.get(2) == 8\n",
    "#->44->72->8->21->3->None\n",
    "print(my_list)\n",
    "print(my_list.size())\n",
    "print(my_list.remove(72))\n",
    "print(my_list)\n",
    "print(my_list.size())\n",
    "my_list.append(100)\n",
    "print(my_list)\n",
    "print(my_list.remove(21))\n",
    "print(my_list)\n",
    "print(my_list.remove(44))\n",
    "print(my_list)\n",
    "print(my_list.pop())\n",
    "print(my_list)"
   ]
  },
  {
   "cell_type": "code",
   "execution_count": 19,
   "metadata": {},
   "outputs": [
    {
     "name": "stdout",
     "output_type": "stream",
     "text": [
      "8\n",
      "3\n"
     ]
    }
   ],
   "source": [
    "for i in my_list:\n",
    "    print(i)"
   ]
  },
  {
   "attachments": {},
   "cell_type": "markdown",
   "metadata": {},
   "source": [
    "Абстрактные структуры данных\n",
    "\n",
    "Абстракция - договор, что будет общий интерфейс"
   ]
  },
  {
   "attachments": {},
   "cell_type": "markdown",
   "metadata": {},
   "source": [
    "Везде свои вещи в структурах даных для каждого ЯП"
   ]
  },
  {
   "attachments": {},
   "cell_type": "markdown",
   "metadata": {},
   "source": [
    "Stack\n",
    "\n",
    "самая основная структура днных\n",
    "\n",
    "на нем всё и он везде.\n",
    "\n",
    "Структура:\n",
    "\n",
    "Вершина\n",
    "Основание\n",
    "\n",
    "Элементы достаются с вершины.\n",
    "\n",
    "Ограничение доступа к нижним элементам - доступна только вершина\n",
    "\n",
    "LIFO (Last in, first out) - последний пришел - первым ушел\n",
    "FILO (First in, last out) - первым пришел - последним ушел\n",
    "\n",
    "Функция кладется на стэк - добавляется в очередь.\n",
    "\n",
    "Функции работают по принципу стэка - сначала одна, она вызывает другую. Исполняется последняя, удаляется. Исполняется первая.\n",
    "\n",
    "Надо понимать как это работает и мочь его реализовать\n",
    "\n",
    "Две осноные функции:\n",
    "push (внутрь) и pop (внаружу)\n",
    "+ pick / top (показать верхний элемент не удаляя)\n",
    "+ empty / isempty\n",
    "+ size\n",
    "+ clear\n",
    "\n",
    "Стэк надо реализовывать на связном списке. (добавление и удаление - const)"
   ]
  },
  {
   "attachments": {},
   "cell_type": "markdown",
   "metadata": {},
   "source": [
    "#Стек"
   ]
  },
  {
   "cell_type": "code",
   "execution_count": 20,
   "metadata": {},
   "outputs": [],
   "source": [
    "class Stack:\n",
    "    def __init__(self):\n",
    "        self.__data = LinkedList()\n",
    "    \n",
    "    def push(self, item):\n",
    "        self.__data.add(item)\n",
    "    \n",
    "    def pop(self):\n",
    "        return self.__data.shift()\n",
    "    \n",
    "    def top(self):\n",
    "        return self.__data.get(0)\n",
    "    \n",
    "    def is_empty(self):\n",
    "        return self.__data.is_empty()\n",
    "    \n",
    "    def size(self):\n",
    "        return self.__data.size()\n",
    "    def clear(self):\n",
    "        self.__data = LinkedList()"
   ]
  },
  {
   "cell_type": "code",
   "execution_count": 21,
   "metadata": {},
   "outputs": [],
   "source": [
    "stack = Stack()\n",
    "assert stack.size() == 0\n",
    "assert stack.is_empty() == True\n",
    "\n",
    "stack.push(3)\n",
    "stack.push(21)\n",
    "stack.push(8)\n",
    "stack.push(17)\n",
    "stack.push(42)\n",
    "\n",
    "assert stack.size() == 5\n",
    "assert stack.is_empty() == False\n",
    "assert stack.top() == 42\n",
    "assert stack.pop() == 42"
   ]
  },
  {
   "attachments": {},
   "cell_type": "markdown",
   "metadata": {},
   "source": [
    "Где-то должен быть код палиандрома"
   ]
  },
  {
   "cell_type": "code",
   "execution_count": 22,
   "metadata": {},
   "outputs": [],
   "source": [
    "def brackets_checker(string: str) -> bool:\n",
    "    stack = Stack()\n",
    "    for char in string:\n",
    "        if char == '(':\n",
    "            stack.push(char)\n",
    "        else:\n",
    "            if stack.is_empty(): return False\n",
    "            stack.pop()\n",
    "    if stack.is_empty(): return True\n",
    "    return False"
   ]
  },
  {
   "cell_type": "code",
   "execution_count": 23,
   "metadata": {},
   "outputs": [],
   "source": [
    "assert brackets_checker('(()(()()))') == True\n",
    "assert brackets_checker('(()(()())') == False\n",
    "assert brackets_checker('(()))(()()))') == False"
   ]
  },
  {
   "cell_type": "code",
   "execution_count": 24,
   "metadata": {},
   "outputs": [
    {
     "data": {
      "text/plain": [
       "22"
      ]
     },
     "execution_count": 24,
     "metadata": {},
     "output_type": "execute_result"
    }
   ],
   "source": [
    "45//2"
   ]
  },
  {
   "cell_type": "code",
   "execution_count": 25,
   "metadata": {},
   "outputs": [
    {
     "data": {
      "text/plain": [
       "22.5"
      ]
     },
     "execution_count": 25,
     "metadata": {},
     "output_type": "execute_result"
    }
   ],
   "source": [
    "45/2"
   ]
  },
  {
   "attachments": {},
   "cell_type": "markdown",
   "metadata": {},
   "source": [
    "ДЗ:\n",
    "\n",
    "1. Написать функцию преобразования в 2-ную систему\n",
    "2. Написать функции преборазования в заданную систему счисления\n",
    "3. Изменить функцию проверок скобок на использование () {} []"
   ]
  },
  {
   "cell_type": "code",
   "execution_count": 26,
   "metadata": {},
   "outputs": [],
   "source": [
    "#Дз\n",
    "#Двоичная система\n",
    "\n",
    "def dec2two(num) -> int:\n",
    "    rev_an = Stack() #REVerse_ANswer\n",
    "\n",
    "    while num > 0:\n",
    "        rev_an.push(num%2)\n",
    "        num //= 2\n",
    "    \n",
    "    answer = ''\n",
    "\n",
    "    while not rev_an.is_empty():\n",
    "        answer += str(rev_an.pop())\n",
    "    \n",
    "    return int(answer)\n"
   ]
  },
  {
   "cell_type": "code",
   "execution_count": 27,
   "metadata": {},
   "outputs": [],
   "source": [
    "assert dec2two(2) == 10\n",
    "assert dec2two(196) == 11000100\n",
    "assert dec2two(10000) == 10011100010000"
   ]
  },
  {
   "cell_type": "code",
   "execution_count": 28,
   "metadata": {},
   "outputs": [],
   "source": [
    "#Дз\n",
    "#Любая система до 9\n",
    "\n",
    "def dec2any(num, base) -> int:\n",
    "    rev_an = Stack() #REVerse_ANswer\n",
    "\n",
    "    while num > 0:\n",
    "        rev_an.push(num%base)\n",
    "        num //= base\n",
    "    \n",
    "    answer = ''\n",
    "\n",
    "    while not rev_an.is_empty():\n",
    "        answer += str(rev_an.pop())\n",
    "\n",
    "    return int(answer)"
   ]
  },
  {
   "cell_type": "code",
   "execution_count": 29,
   "metadata": {},
   "outputs": [],
   "source": [
    "assert dec2any(196, 2) == 11000100\n",
    "assert dec2any(196, 8) == 304\n",
    "assert dec2any(10000, 8) == 23420\n",
    "assert dec2any(18, 9) == 20\n",
    "assert dec2any(180, 9) == 220"
   ]
  },
  {
   "cell_type": "code",
   "execution_count": 30,
   "metadata": {},
   "outputs": [],
   "source": [
    "#Дз\n",
    "#Любая система счисления до 16\n",
    "\n",
    "dict_dec = {\n",
    "    10 : 'A',\n",
    "    11 : 'B',\n",
    "    12 : 'C',\n",
    "    13 : 'D',\n",
    "    14 : 'E',\n",
    "    15 : 'F'\n",
    "}\n",
    "\n",
    "def dec2any(num, base) -> str:\n",
    "    global dict_dec\n",
    "    rev_an = Stack() #REVerse_ANswer\n",
    "\n",
    "    while num > 0:\n",
    "        rev_an.push(dict_dec.get(num%base, num%base))\n",
    "        num //= base\n",
    "\n",
    "    answer = ''\n",
    "\n",
    "    while not rev_an.is_empty():\n",
    "        answer += str(rev_an.pop())\n",
    "\n",
    "    return answer"
   ]
  },
  {
   "cell_type": "code",
   "execution_count": 31,
   "metadata": {},
   "outputs": [],
   "source": [
    "assert dec2any(2, 2) == '10'\n",
    "assert dec2any(196, 2) == '11000100'\n",
    "assert dec2any(196, 8) == '304'\n",
    "assert dec2any(10000, 8) == '23420'\n",
    "assert dec2any(18, 9) == '20'\n",
    "assert dec2any(180, 9) == '220'\n",
    "\n",
    "assert dec2any(196, 16) == 'C4'"
   ]
  },
  {
   "cell_type": "code",
   "execution_count": 32,
   "metadata": {},
   "outputs": [],
   "source": [
    "def checker(str):\n",
    "    str_stack = stack()\n",
    "\n",
    "    dict = {'}' : '{', ')' : '(', ']' : '['}\n",
    "\n",
    "    for i in str:\n",
    "        if i in '{[(':\n",
    "            str_stack.push(i)\n",
    "            \n",
    "        else:\n",
    "            if str_stack.empty():\n",
    "                return False\n",
    "            \n",
    "            last = str_stack.pop()\n",
    "\n",
    "            if last == dict.get(i):\n",
    "                continue\n",
    "\n",
    "            else:\n",
    "                return False\n",
    "\n",
    "    return True"
   ]
  },
  {
   "cell_type": "code",
   "execution_count": 33,
   "metadata": {},
   "outputs": [],
   "source": [
    "#Дз\n",
    "#Скобочки\n",
    "dict_skobochki = {'}' : '{', ')' : '(', ']' : '['}\n",
    "\n",
    "def brackets_checker(string: str) -> bool:\n",
    "    stack = Stack()\n",
    "    for char in string:\n",
    "        if char in '({[':\n",
    "            stack.push(char)\n",
    "        else:\n",
    "            if stack.is_empty(): return False\n",
    "            \n",
    "            if dict_skobochki.get(char) != stack.top(): return False\n",
    "            \n",
    "            stack.pop()\n",
    "    if stack.is_empty(): return True\n",
    "    return False"
   ]
  },
  {
   "cell_type": "code",
   "execution_count": 34,
   "metadata": {},
   "outputs": [],
   "source": [
    "assert brackets_checker('{{([][])}()}') == True\n",
    "assert brackets_checker('{{([][)}()}') == False\n",
    "assert brackets_checker('{{{{{{}}}}}}') == True\n",
    "assert brackets_checker('((()))') == True\n",
    "assert brackets_checker('((({)))') == False"
   ]
  },
  {
   "attachments": {},
   "cell_type": "markdown",
   "metadata": {},
   "source": [
    "Очередь\n",
    "\n",
    "FIFO - First in, First out"
   ]
  },
  {
   "cell_type": "code",
   "execution_count": 35,
   "metadata": {},
   "outputs": [],
   "source": [
    "class LinkedListUp:\n",
    "    def __init__(self):\n",
    "        self.__head = None\n",
    "        self.__tail = None\n",
    "        self.__length = 0\n",
    "    \n",
    "    def is_empty(self):\n",
    "        return self.__head is None #== вначале делает проверку is, а None один в памяти, поэтому is проще\n",
    "    \n",
    "    def add(self, item):\n",
    "        node = Node(item)\n",
    "        node.next = self.__head\n",
    "        self.__head = node\n",
    "        if self.__tail is None:\n",
    "            self.__tail = node\n",
    "        self.__length += 1\n",
    "    \n",
    "    #размер массива\n",
    "    def size(self):\n",
    "        return self.__length\n",
    "    \n",
    "    #есть элемент в списке или нет\n",
    "    def search(self, item):\n",
    "        if self.is_empty(): return False\n",
    "        current = self.__head\n",
    "        \n",
    "        while not current is None:\n",
    "            if current.data == item:\n",
    "                return True\n",
    "            current = current.next\n",
    "        return False\n",
    "    \n",
    "    #удаление элемента из списка по значению\n",
    "    def remove(self, item):\n",
    "        if self.is_empty(): return False\n",
    "        current = self.__head\n",
    "        previous = None\n",
    "        while not current is None:\n",
    "            #если текущий элемент - искомый элемент, то меняем ссылки\n",
    "            if current.data == item:\n",
    "                #\"удаляем\" узел заменой ссылок: предыдущий элемент до узла ссылается на следущий элемент после узла\n",
    "                if previous:\n",
    "                    previous.next = current.next\n",
    "                    #если текущий элемент - хвост, то хвостом становится предыдущий элемент\n",
    "                    if current == self.__tail:\n",
    "                        self.__tail = previous\n",
    "                else:\n",
    "                    #если текущий элемент - голова, то следущий элемент становится головой\n",
    "                    self.__head = current.next\n",
    "                #убираем 1 ед. длины\n",
    "                self.__length -= 1\n",
    "\n",
    "                #вернем значение узла, чтобы пользователь понял, что мы его нашли\n",
    "                return current.data\n",
    "            #для того, чтобы бежать по циклу\n",
    "            previous = current\n",
    "            current = current.next\n",
    "        return False\n",
    "    \n",
    "    def append(self, item):\n",
    "        node = Node(item)\n",
    "        current = self.__tail\n",
    "        node.next = None\n",
    "        #теперь узел хвоста ссылается на новый узел\n",
    "        self.__tail.next = node\n",
    "        #новый узел - хвост\n",
    "        self.__tail = node\n",
    "    \n",
    "    def pop(self):\n",
    "        if self.is_empty(): return False\n",
    "\n",
    "        current = self.__head\n",
    "        while not current.next == self.__tail:\n",
    "            current = current.next\n",
    "        \n",
    "        to_return = self.__tail.data\n",
    "\n",
    "        current.next = None\n",
    "        self.__tail = current\n",
    "\n",
    "        return to_return\n",
    "    \n",
    "    #чтобы увидеть результаты работы методов\n",
    "    def __str__(self):\n",
    "        to_return = ''\n",
    "        current = self.__head\n",
    "        while not current is None:\n",
    "            to_return += f'{current.data} --> '\n",
    "            current = current.next\n",
    "        \n",
    "        to_return += 'None'\n",
    "        \n",
    "        return to_return\n",
    "\n",
    "    def get(self, index):\n",
    "        if self.is_empty(): return None\n",
    "        if index >= self.size(): return None\n",
    "        if index < 0: return None\n",
    "        if index == 0: return self.__head.data\n",
    "        current = self.__head\n",
    "        cnt = 1\n",
    "        while cnt < self.size():\n",
    "            current = current.next\n",
    "            if index == cnt:\n",
    "                return current.data\n",
    "            cnt += 1\n",
    "        return None\n",
    "\n",
    "    #итерабильность\n",
    "    def __getitem__(self, index):\n",
    "        if index >= self.size(): raise IndexError()\n",
    "        return self.get(index)\n",
    "    \n",
    "    def shift(self):\n",
    "        if self.__head is None: return None\n",
    "        node = self.__head\n",
    "        self.__head = node.next\n",
    "        node.next = None\n",
    "        self.__length -= 1\n",
    "        return node.data\n",
    "        "
   ]
  },
  {
   "cell_type": "code",
   "execution_count": 36,
   "metadata": {},
   "outputs": [],
   "source": [
    "class Queue:\n",
    "    def __init__(self):\n",
    "        self.__data = LinkedListUp()\n",
    "    \n",
    "    def enqueue(self, item):\n",
    "        self.__data.add(item)\n",
    "    \n",
    "    def dequeue(self):\n",
    "        return self.__data.shift()\n",
    "    \n",
    "    def front(self):\n",
    "        return self.__data.get(0)\n",
    "    \n",
    "    def rear(self):\n",
    "        return self.__data.get(self.__data.size()-1)\n",
    "    \n",
    "    def is_empty(self):\n",
    "        return self.__data.is_empty()\n",
    "    \n",
    "    def size(self):\n",
    "        return self.__data.size()\n",
    "    def clear(self):\n",
    "        self.__data = LinkedList()"
   ]
  },
  {
   "cell_type": "code",
   "execution_count": 42,
   "metadata": {},
   "outputs": [
    {
     "name": "stdout",
     "output_type": "stream",
     "text": [
      "<__main__.Queue object at 0x0000024D2EBAAF50>\n",
      "5\n",
      "<__main__.Queue object at 0x0000024D2EBAAF50>\n",
      "5\n",
      "<__main__.Queue object at 0x0000024D2EBAAF50>\n",
      "<__main__.Queue object at 0x0000024D2EBAAF50>\n",
      "100\n",
      "<__main__.Queue object at 0x0000024D2EBAAF50>\n",
      "44\n",
      "<__main__.Queue object at 0x0000024D2EBAAF50>\n"
     ]
    }
   ],
   "source": [
    "queue = Queue()\n",
    "queue.enqueue(3)\n",
    "queue.enqueue(21)\n",
    "queue.enqueue(8)\n",
    "queue.enqueue(72)\n",
    "queue.enqueue(44)\n",
    "#->44->72->8->21->3->None\n",
    "print(queue)\n",
    "print(queue.size())\n",
    "print(queue)\n",
    "print(queue.size())\n",
    "queue.enqueue(100)\n",
    "print(queue)\n",
    "print(queue)\n",
    "print(queue.dequeue())\n",
    "print(queue)\n",
    "print(queue.dequeue())\n",
    "print(queue)"
   ]
  }
 ],
 "metadata": {
  "kernelspec": {
   "display_name": "Python 3",
   "language": "python",
   "name": "python3"
  },
  "language_info": {
   "codemirror_mode": {
    "name": "ipython",
    "version": 3
   },
   "file_extension": ".py",
   "mimetype": "text/x-python",
   "name": "python",
   "nbconvert_exporter": "python",
   "pygments_lexer": "ipython3",
   "version": "3.11.3"
  },
  "orig_nbformat": 4
 },
 "nbformat": 4,
 "nbformat_minor": 2
}
